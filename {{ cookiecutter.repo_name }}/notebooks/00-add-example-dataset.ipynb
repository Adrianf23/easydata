{
 "cells": [
  {
   "cell_type": "code",
   "execution_count": 1,
   "metadata": {},
   "outputs": [],
   "source": [
    "import pandas as pd\n",
    "import pathlib\n",
    "import numpy as np\n",
    "from pprint import pprint\n",
    "from functools import partial\n",
    "\n",
    "from {{ cookiecutter.module_name }}.data import datasets, utils\n",
    "from {{ cookiecutter.module_name }}.data.datasets import (build_dataset_dict, fetch_and_unpack, fetch_text_file, read_space_delimited,\n",
    "                                   new_dataset, load_dataset)\n",
    "from {{ cookiecutter.module_name }}.data.utils import hash_file, list_dir, head_file\n",
    "from {{ cookiecutter.module_name }}.paths import interim_data_path, raw_data_path"
   ]
  },
  {
   "cell_type": "code",
   "execution_count": 2,
   "metadata": {},
   "outputs": [],
   "source": [
    "%load_ext autoreload\n",
    "%autoreload 2"
   ]
  },
  {
   "cell_type": "markdown",
   "metadata": {},
   "source": [
    "## Adding the LVQ-PAK Finnish Phonetic dataset\n",
    "\n",
    "The Learning Vector Quantization project includes a simple Finnish phonetic dataset\n",
    "consisting 20-dimensional data and their associated targets. Let's explore this dataset and\n",
    "add it to our global `datasets.json` so it can be unpacked and processed automatically."
   ]
  },
  {
   "cell_type": "code",
   "execution_count": 3,
   "metadata": {},
   "outputs": [],
   "source": [
    "dataset_name='lvq-pak'"
   ]
  },
  {
   "cell_type": "markdown",
   "metadata": {},
   "source": [
    "Download the tarfile and build the dataset dictionary for it. If we know the hash of this file, we should include it here. If not, one will be computed from this download and used for comparison on subsequent downloads."
   ]
  },
  {
   "cell_type": "code",
   "execution_count": 4,
   "metadata": {},
   "outputs": [
    {
     "data": {
      "text/plain": [
       "{'url': 'http://www.cis.hut.fi/research/lvq_pak/lvq_pak-3.1.tar',\n",
       " 'hash_type': 'sha1',\n",
       " 'hash_value': '86024a871724e521341da0ffb783956e39aadb6e',\n",
       " 'name': None,\n",
       " 'file_name': None}"
      ]
     },
     "execution_count": 4,
     "metadata": {},
     "output_type": "execute_result"
    }
   ],
   "source": [
    "# Grab the source code package\n",
    "lvq_pak = build_dataset_dict(url=\"http://www.cis.hut.fi/research/lvq_pak/lvq_pak-3.1.tar\")\n",
    "lvq_pak"
   ]
  },
  {
   "cell_type": "markdown",
   "metadata": {},
   "source": [
    "The **name** field can be used to indicate the type of datafile being downloaded. Usually, this is just informational. However, if you specify names `DESCR` or `LICENSE`, the downloaded (text) file will be used as the dataset description and license text, respectively.\n",
    "\n",
    "Usually you will want to give these unique names, so they don't clash with other downloaded files. (e.g. \"LICENSE.txt\" is a terrible name to use). We use the **file_name** option for this:"
   ]
  },
  {
   "cell_type": "code",
   "execution_count": 5,
   "metadata": {},
   "outputs": [],
   "source": [
    "descr = build_dataset_dict(url='http://www.cis.hut.fi/research/lvq_pak/README', file_name=f'{dataset_name}.readme',\n",
    "                       name='DESCR')"
   ]
  },
  {
   "cell_type": "code",
   "execution_count": 6,
   "metadata": {},
   "outputs": [
    {
     "data": {
      "text/plain": [
       "['lvq-pak.readme', 'lvq_pak-3.1.tar']"
      ]
     },
     "execution_count": 6,
     "metadata": {},
     "output_type": "execute_result"
    }
   ],
   "source": [
    "# notice the files have been downloaded to the RAW directory\n",
    "list_dir(raw_data_path)"
   ]
  },
  {
   "cell_type": "markdown",
   "metadata": {},
   "source": [
    "Next, we combine the complete set of files into a URL list and use this to build our json file entry."
   ]
  },
  {
   "cell_type": "code",
   "execution_count": 7,
   "metadata": {},
   "outputs": [
    {
     "data": {
      "text/plain": [
       "[{'url': 'http://www.cis.hut.fi/research/lvq_pak/lvq_pak-3.1.tar',\n",
       "  'hash_type': 'sha1',\n",
       "  'hash_value': '86024a871724e521341da0ffb783956e39aadb6e',\n",
       "  'name': None,\n",
       "  'file_name': None},\n",
       " {'url': 'http://www.cis.hut.fi/research/lvq_pak/README',\n",
       "  'hash_type': 'sha1',\n",
       "  'hash_value': '138b69cc0b4e02950cec5833752e50a54d36fd0f',\n",
       "  'name': 'DESCR',\n",
       "  'file_name': 'lvq-pak.readme'}]"
      ]
     },
     "execution_count": 7,
     "metadata": {},
     "output_type": "execute_result"
    }
   ],
   "source": [
    "url_list = [lvq_pak, descr]\n",
    "url_list"
   ]
  },
  {
   "cell_type": "code",
   "execution_count": 8,
   "metadata": {},
   "outputs": [
    {
     "name": "stdout",
     "output_type": "stream",
     "text": [
      "{'load_function': functools.partial(<function new_dataset at 0x11e74d488>, dataset_name='lvq-pak'),\n",
      " 'load_function_name': 'new_dataset',\n",
      " 'load_function_options': {'dataset_name': 'lvq-pak'},\n",
      " 'url_list': [{'file_name': None,\n",
      "               'hash_type': 'sha1',\n",
      "               'hash_value': '86024a871724e521341da0ffb783956e39aadb6e',\n",
      "               'name': None,\n",
      "               'url': 'http://www.cis.hut.fi/research/lvq_pak/lvq_pak-3.1.tar'},\n",
      "              {'file_name': 'lvq-pak.readme',\n",
      "               'hash_type': 'sha1',\n",
      "               'hash_value': '138b69cc0b4e02950cec5833752e50a54d36fd0f',\n",
      "               'name': 'DESCR',\n",
      "               'url': 'http://www.cis.hut.fi/research/lvq_pak/README'}]}\n"
     ]
    }
   ],
   "source": [
    "newds_dict = datasets.add_dataset_by_urllist(dataset_name, url_list)\n",
    "pprint(newds_dict)"
   ]
  },
  {
   "cell_type": "markdown",
   "metadata": {},
   "source": [
    "See that a generic `load_function` has been used to process the data. This does nothing more than populates the DESCR and LICENSE fields (if possible), creating an otherwise empty `Bunch`"
   ]
  },
  {
   "cell_type": "code",
   "execution_count": 9,
   "metadata": {},
   "outputs": [
    {
     "data": {
      "text/plain": [
       "sklearn.utils.Bunch"
      ]
     },
     "execution_count": 9,
     "metadata": {},
     "output_type": "execute_result"
    }
   ],
   "source": [
    "# Now, call the (generic) load function and notice that the LICENSE and DESCR have been set\n",
    "dset = newds_dict['load_function']()\n",
    "type(dset)"
   ]
  },
  {
   "cell_type": "code",
   "execution_count": 10,
   "metadata": {},
   "outputs": [
    {
     "name": "stdout",
     "output_type": "stream",
     "text": [
      "************************************************************************\n",
      "*                                                                      *\n",
      "*                              LVQ_PAK                                 *\n",
      "*                                                                      *\n",
      "*                                The                                   *\n",
      "*                                                                      *\n",
      "*                   Learning  Vector  Quantization                     *\n",
      "*                                                                      *\n",
      "*                          Program  Package                            *\n",
      "*                                                                      *\n",
      "*                   Version 3.1 (April 7, 1995)                        *\n",
      "*                                                                      *\n",
      "*                          Prepared by the                             *\n",
      "*                    LVQ Programming Team of the                       *\n",
      "*                 Helsinki University of Technology                    *\n",
      "*           Laboratory of Computer and Information Science             *\n",
      "*                Rakentajanaukio 2 C, SF-02150 Espoo                   *\n",
      "*                              FINLAND                                 *\n",
      "*                                                                      *\n",
      "*                      Copyright (c) 1991-1995                         *\n",
      "*                                                                      *\n",
      "************************************************************************\n",
      "*                                                                      *\n",
      "*  NOTE: This program package is copyrighted in the sense that it      *\n",
      "*  may be used for scientific purposes. The package as a whole, or     *\n",
      "*  parts thereof, cannot be included or used in any commercial         *\n",
      "*  application without written permission granted by its producents.   *\n",
      "*  No programs contained in this package may be copied for commercial  *\n",
      "*  distribution.                                                       *\n",
      "*                                                                      *\n",
      "*  All comments concerning this program package may be sent to the     *\n",
      "*  e-mail address 'lvq@nucleus.hut.fi'.                                *\n",
      "*                                                                      *\n",
      "************************************************************************\n",
      "\n",
      "This package contains all the programs necessary for the correct\n",
      "application of certain LVQ (Learning Vector Quantization) algorithms\n",
      "in an arbitrary statistical classification or pattern recognition\n",
      "task.  To this package four options for the algorithms, the\n",
      "LVQ1, the LVQ2.1, the LVQ3 and the OLVQ1, have been selected.  \n",
      "\n",
      "In the implementation of the LVQ programs we have tried to use as\n",
      "simple a code as possible.  Therefore the programs are supposed to\n",
      "compile in various machines without any specific modifications made on\n",
      "the code.  All programs have been written in ANSI C.\n",
      "\n",
      "The lvq_pak program package includes the following files:\n",
      "  - Documentation:\n",
      "      README             this file\n",
      "      lvq_doc.ps         documentation in (c) PostScript format\n",
      "      lvq_doc.ps.Z       same as above but compressed\n",
      "      lvq_doc.txt        documentation in ASCII format\n",
      "  - Source file archives:\n",
      "      lvq_p3r1.exe       Self-extracting MS-DOS archive file\n",
      "      lvq_pak-3.1.tar    UNIX tape archive file\n",
      "      lvq_pak-3.1.tar.Z  same as above but compressed\n",
      "\n",
      "Installation in UNIX (in more detail, see lvq_doc.ps/txt):\n",
      "  - Uncompress lvq_pak-3.1.tar.Z\n",
      "  - Extract the files with \"tar xovf lvq_pak-3.1.tar\" which creates\n",
      "    the subdirectory lvq_pak-3.1\n",
      "  - Copy makefile.unix to the name makefile\n",
      "  - Revise switches in the makefile, if necessary\n",
      "  - Execute \"make\"\n",
      "\n",
      "Installation in MS-DOS (in more detail, see lvq_doc.ps/txt):\n",
      "  - By executing the command lvq_p3r1 the self-extracting archive\n",
      "    creates the directory lvq_pak.3r1 and extracts all the files in it\n",
      "  - You are supposed to use Borland C++ Version 3.1 and to have\n",
      "    all the necessary environment settings\n",
      "  - Copy the file makefile.dos to the name makefile\n",
      "  - Revise the compiler switches in the makefile, if necessary\n",
      "  - Execute \"make\"\n",
      "\n",
      "Revision history:\n",
      "  - Version 1.0 was released 19 December 1991.\n",
      "  - Version 1.1 containing only a minor bug fix in memory allocation\n",
      "    was released 31 December 1991.\n",
      "  - Version 2.0 containing major modifications in the algorithms was\n",
      "    released January 31, 1992.\n",
      "  - Version 2.1 containing some improvements in the speed of algorithms\n",
      "    and one new program was released October 9, 1992.\n",
      "  - Version 3.0 containing many advanced features conserning application\n",
      "    of the algorithms in large problems was released March 1, 1995; for\n",
      "    these changes see documentation.\n",
      "  - Version 3.1 containing only a bug fix in random ordering\n",
      "    was released 7 April 1995.\n",
      "\n",
      "\n"
     ]
    }
   ],
   "source": [
    "print(dset.DESCR)"
   ]
  },
  {
   "cell_type": "code",
   "execution_count": 11,
   "metadata": {},
   "outputs": [
    {
     "name": "stdout",
     "output_type": "stream",
     "text": [
      "\n",
      "************************************************************************\n",
      "*                                                                      *\n",
      "*                              LVQ_PAK                                 *\n",
      "*                                                                      *\n",
      "*                                The                                   *\n",
      "*                                                                      *\n",
      "*                   Learning  Vector  Quantization                     *\n",
      "*                                                                      *\n",
      "*                          Program  Package                            *\n",
      "*                                                                      *\n",
      "*                   Version 3.1 (April 7, 1995)                        *\n",
      "*                                                                      *\n",
      "*                          Prepared by the                             *\n",
      "*                    LVQ Programming Team of the                       *\n",
      "*                 Helsinki University of Technology                    *\n",
      "*           Laboratory of Computer and Information Science             *\n",
      "*                Rakentajanaukio 2 C, SF-02150 Espoo                   *\n",
      "*                              FINLAND                                 *\n",
      "*                                                                      *\n",
      "*                      Copyright (c) 1991-1995                         *\n",
      "*                                                                      *\n",
      "************************************************************************\n",
      "*                                                                      *\n",
      "*  NOTE: This program package is copyrighted in the sense that it      *\n",
      "*  may be used for scientific purposes. The package as a whole, or     *\n",
      "*  parts thereof, cannot be included or used in any commercial         *\n",
      "*  application without written permission granted by its producents.   *\n",
      "*  No programs contained in this package may be copied for commercial  *\n",
      "*  distribution.                                                       *\n",
      "*                                                                      *\n",
      "*  All comments concerning this program package may be sent to the     *\n",
      "*  e-mail address 'lvq@nucleus.hut.fi'.                                *\n",
      "*                                                                      *\n",
      "************************************************************************\n",
      "\n"
     ]
    }
   ],
   "source": [
    "print(dset.LICENSE)"
   ]
  },
  {
   "cell_type": "markdown",
   "metadata": {},
   "source": [
    "Datasets should *always* have an explicit license. Reading the project documentation, we see a license in one of the textfiles. We can extract and use that"
   ]
  },
  {
   "cell_type": "code",
   "execution_count": 12,
   "metadata": {},
   "outputs": [],
   "source": [
    "license_txt = '''\n",
    "************************************************************************\n",
    "*                                                                      *\n",
    "*                              LVQ_PAK                                 *\n",
    "*                                                                      *\n",
    "*                                The                                   *\n",
    "*                                                                      *\n",
    "*                   Learning  Vector  Quantization                     *\n",
    "*                                                                      *\n",
    "*                          Program  Package                            *\n",
    "*                                                                      *\n",
    "*                   Version 3.1 (April 7, 1995)                        *\n",
    "*                                                                      *\n",
    "*                          Prepared by the                             *\n",
    "*                    LVQ Programming Team of the                       *\n",
    "*                 Helsinki University of Technology                    *\n",
    "*           Laboratory of Computer and Information Science             *\n",
    "*                Rakentajanaukio 2 C, SF-02150 Espoo                   *\n",
    "*                              FINLAND                                 *\n",
    "*                                                                      *\n",
    "*                      Copyright (c) 1991-1995                         *\n",
    "*                                                                      *\n",
    "************************************************************************\n",
    "*                                                                      *\n",
    "*  NOTE: This program package is copyrighted in the sense that it      *\n",
    "*  may be used for scientific purposes. The package as a whole, or     *\n",
    "*  parts thereof, cannot be included or used in any commercial         *\n",
    "*  application without written permission granted by its producents.   *\n",
    "*  No programs contained in this package may be copied for commercial  *\n",
    "*  distribution.                                                       *\n",
    "*                                                                      *\n",
    "*  All comments concerning this program package may be sent to the     *\n",
    "*  e-mail address 'lvq@nucleus.hut.fi'.                                *\n",
    "*                                                                      *\n",
    "************************************************************************\n",
    "'''"
   ]
  },
  {
   "cell_type": "code",
   "execution_count": 13,
   "metadata": {},
   "outputs": [],
   "source": [
    "datasets.add_dataset_metadata(dataset_name, from_str=license_txt, kind='LICENSE')"
   ]
  },
  {
   "cell_type": "markdown",
   "metadata": {},
   "source": [
    "Now, reload the dataset from scratch and check that the license is there"
   ]
  },
  {
   "cell_type": "code",
   "execution_count": 14,
   "metadata": {},
   "outputs": [
    {
     "name": "stdout",
     "output_type": "stream",
     "text": [
      "\n",
      "************************************************************************\n",
      "*                                                                      *\n",
      "*                              LVQ_PAK                                 *\n",
      "*                                                                      *\n",
      "*                                The                                   *\n",
      "*                                                                      *\n",
      "*                   Learning  Vector  Quantization                     *\n",
      "*                                                                      *\n",
      "*                          Program  Package                            *\n",
      "*                                                                      *\n",
      "*                   Version 3.1 (April 7, 1995)                        *\n",
      "*                                                                      *\n",
      "*                          Prepared by the                             *\n",
      "*                    LVQ Programming Team of the                       *\n",
      "*                 Helsinki University of Technology                    *\n",
      "*           Laboratory of Computer and Information Science             *\n",
      "*                Rakentajanaukio 2 C, SF-02150 Espoo                   *\n",
      "*                              FINLAND                                 *\n",
      "*                                                                      *\n",
      "*                      Copyright (c) 1991-1995                         *\n",
      "*                                                                      *\n",
      "************************************************************************\n",
      "*                                                                      *\n",
      "*  NOTE: This program package is copyrighted in the sense that it      *\n",
      "*  may be used for scientific purposes. The package as a whole, or     *\n",
      "*  parts thereof, cannot be included or used in any commercial         *\n",
      "*  application without written permission granted by its producents.   *\n",
      "*  No programs contained in this package may be copied for commercial  *\n",
      "*  distribution.                                                       *\n",
      "*                                                                      *\n",
      "*  All comments concerning this program package may be sent to the     *\n",
      "*  e-mail address 'lvq@nucleus.hut.fi'.                                *\n",
      "*                                                                      *\n",
      "************************************************************************\n",
      "\n"
     ]
    }
   ],
   "source": [
    "dset = datasets.load_dataset(dataset_name)\n",
    "print(dset.LICENSE)"
   ]
  },
  {
   "cell_type": "markdown",
   "metadata": {},
   "source": [
    "## Processing the data\n",
    "The next step is to write the importer that actually processes the data we will be using for this dataset.\n",
    "\n",
    "The important things to generate are `data` and `target` entries. A `metadata` is optional, but recommended if you want to save additional information about the dataset.\n",
    "\n",
    "Usually, this functionality gets bundled up into a function and added to `datasets.py`\n"
   ]
  },
  {
   "cell_type": "code",
   "execution_count": 15,
   "metadata": {},
   "outputs": [
    {
     "data": {
      "text/plain": [
       "['accuracy.c',\n",
       " 'balance.c',\n",
       " 'classify.c',\n",
       " 'cmatr.c',\n",
       " 'config.h',\n",
       " 'datafile.c',\n",
       " 'datafile.h',\n",
       " 'elimin.c',\n",
       " 'errors.h',\n",
       " 'eveninit.c',\n",
       " 'ex1.dat',\n",
       " 'ex2.dat',\n",
       " 'extract.c',\n",
       " 'fileio.c',\n",
       " 'fileio.h',\n",
       " 'knntest.c',\n",
       " 'labels.c',\n",
       " 'labels.h',\n",
       " 'lvq_pak.c',\n",
       " 'lvq_pak.h',\n",
       " 'lvq_rout.c',\n",
       " 'lvq_rout.h',\n",
       " 'lvq_run.c',\n",
       " 'lvqtrain.c',\n",
       " 'makefile.dos',\n",
       " 'makefile.unix',\n",
       " 'mcnemar.c',\n",
       " 'mindist.c',\n",
       " 'pick.c',\n",
       " 'README',\n",
       " 'sammon.c',\n",
       " 'setlabel.c',\n",
       " 'showlabs.c',\n",
       " 'stddev.c',\n",
       " 'VERSION',\n",
       " 'version.c',\n",
       " 'version.h']"
      ]
     },
     "execution_count": 15,
     "metadata": {},
     "output_type": "execute_result"
    }
   ],
   "source": [
    "# Unpack the file\n",
    "untar_dir = fetch_and_unpack(dataset_name)\n",
    "unpack_dir = untar_dir / 'lvq_pak-3.1'\n",
    "list_dir(unpack_dir)"
   ]
  },
  {
   "cell_type": "markdown",
   "metadata": {},
   "source": [
    "In this dataset, the training and test datsets are stored in files named `ex1.dat` and `ex2.dat` respectively"
   ]
  },
  {
   "cell_type": "code",
   "execution_count": 16,
   "metadata": {},
   "outputs": [
    {
     "data": {
      "text/plain": [
       "True"
      ]
     },
     "execution_count": 16,
     "metadata": {},
     "output_type": "execute_result"
    }
   ],
   "source": [
    "datafile_train = unpack_dir / 'ex1.dat'\n",
    "datafile_test = unpack_dir / 'ex2.dat'\n",
    "\n",
    "datafile_train.exists() and datafile_test.exists()"
   ]
  },
  {
   "cell_type": "markdown",
   "metadata": {},
   "source": [
    "According to the documentation, the data format is space-delimited, with the class label included as the last column. Let's have a look"
   ]
  },
  {
   "cell_type": "code",
   "execution_count": 17,
   "metadata": {},
   "outputs": [
    {
     "name": "stdout",
     "output_type": "stream",
     "text": [
      "20\n",
      "# Example data from speech signal\n",
      "21.47 -19.90 -20.68 -6.73 13.67 -11.95 13.83 12.02 7.62 -6.15 -4.38 -2.91 4.80 -7.39 -3.54 -0.87 -5.02 -1.41 -2.33 2.12 A\n",
      "0.05 28.38 9.52 -11.30 3.11 -11.88 -2.90 -11.04 2.32 -13.80 1.71 -0.40 -1.36 3.91 3.21 -0.98 -0.14 -4.70 0.30 0.27 I\n",
      "-4.71 -4.61 -0.64 1.78 -1.48 5.98 12.55 -0.50 4.74 4.68 3.27 -0.36 9.24 3.39 -0.40 -1.59 0.94 2.17 -0.10 -0.45 #\n",
      "\n"
     ]
    }
   ],
   "source": [
    "print(head_file(datafile_train))"
   ]
  },
  {
   "cell_type": "markdown",
   "metadata": {},
   "source": [
    "Indeed, the datafile consists of 1 line containing the dimension of the data, a comment, and then 21 space-delimited columns, the final column being the target class label. \n",
    "\n",
    "**Note:** We have to be a little careful importing the data, because '#' is used both as the comment delimiter, and as a class label.\n",
    "\n",
    "Fortunately, we have a helper function for this. We will get a little cheeky and skip the first 2 lines (hoping there are no other comments). The documentation also says ther are 1962 entries in each of the training and test datasets."
   ]
  },
  {
   "cell_type": "code",
   "execution_count": 18,
   "metadata": {},
   "outputs": [
    {
     "data": {
      "text/plain": [
       "((1962, 20), (1962,), (1962, 20), (1962,))"
      ]
     },
     "execution_count": 18,
     "metadata": {},
     "output_type": "execute_result"
    }
   ],
   "source": [
    "data, target = read_space_delimited(datafile_train, skiprows=[0,1])\n",
    "data2, target2 = read_space_delimited(datafile_test, skiprows=[0])\n",
    "\n",
    "data.shape, target.shape, data2.shape, target2.shape"
   ]
  },
  {
   "cell_type": "code",
   "execution_count": 19,
   "metadata": {},
   "outputs": [
    {
     "data": {
      "text/plain": [
       "array(['A', 'I', '#', ..., '#', 'Y', '#'], dtype=object)"
      ]
     },
     "execution_count": 19,
     "metadata": {},
     "output_type": "execute_result"
    }
   ],
   "source": [
    "target"
   ]
  },
  {
   "cell_type": "markdown",
   "metadata": {},
   "source": [
    "This seems to work, so let's wrap this functionality up into a processing function.\n",
    "By convention, the function takes a `dataset_name`, and any other options that may be useful for reading the data."
   ]
  },
  {
   "cell_type": "code",
   "execution_count": 20,
   "metadata": {},
   "outputs": [],
   "source": [
    "def process_lvq_pak(dataset_name='lvq-pak', kind='all'):\n",
    "    \"\"\"\n",
    "    Read the LVQ-PAK dataset.\n",
    "    \n",
    "    kind: {'test', 'train', 'all'}, default 'all'\n",
    "        Whether to load the test data, training data, or both.\n",
    "    \"\"\"\n",
    "    if kind not in ['train', 'test', 'all']:\n",
    "        raise Exception(f'Unknown kind: {kind}')\n",
    "        \n",
    "    dset = new_dataset(dataset_name=dataset_name)\n",
    "    \n",
    "    if kind == 'train' or 'all':\n",
    "        data_train, target_train = read_space_delimited(unpack_dir / 'ex1.dat', skiprows=[0, 1])\n",
    "        data, target = data_train, target_train\n",
    "    if kind == 'test' or 'all':\n",
    "        data_test, target_test = read_space_delimited(unpack_dir / 'ex2.dat', skiprows=[0])\n",
    "        data, target = data_test, target_test\n",
    "    if kind == 'all':\n",
    "        data = np.concatenate((data_train, data_test))\n",
    "        target = np.concatenate((target_train, target_test))\n",
    "\n",
    "    dset['data'] = data\n",
    "    dset['target'] = target\n",
    "    \n",
    "    return dset\n",
    "  "
   ]
  },
  {
   "cell_type": "markdown",
   "metadata": {},
   "source": [
    "Let's make sure this works as expected"
   ]
  },
  {
   "cell_type": "code",
   "execution_count": 21,
   "metadata": {},
   "outputs": [
    {
     "name": "stdout",
     "output_type": "stream",
     "text": [
      "train: data=(1962, 20) target=(1962,)\n",
      "test: data=(1962, 20) target=(1962,)\n",
      "all: data=(3924, 20) target=(3924,)\n"
     ]
    }
   ],
   "source": [
    "for kind in ['train', 'test', 'all']:\n",
    "    dset = process_lvq_pak(kind=kind)\n",
    "    print(f'{kind}: data={dset.data.shape} target={dset.target.shape}')"
   ]
  },
  {
   "cell_type": "markdown",
   "metadata": {},
   "source": [
    "Add this function name to the json file. Note, this function will be unknownuntil we actually add the above code\n",
    "into the `datasets.py` file"
   ]
  },
  {
   "cell_type": "code",
   "execution_count": 22,
   "metadata": {},
   "outputs": [
    {
     "data": {
      "text/plain": [
       "{'load_function_name': 'process_lvq_pak',\n",
       " 'load_function_options': {},\n",
       " 'url_list': [{'file_name': None,\n",
       "   'hash_type': 'sha1',\n",
       "   'hash_value': '86024a871724e521341da0ffb783956e39aadb6e',\n",
       "   'name': None,\n",
       "   'url': 'http://www.cis.hut.fi/research/lvq_pak/lvq_pak-3.1.tar'},\n",
       "  {'file_name': 'lvq-pak.readme',\n",
       "   'hash_type': 'sha1',\n",
       "   'hash_value': '138b69cc0b4e02950cec5833752e50a54d36fd0f',\n",
       "   'name': 'DESCR',\n",
       "   'url': 'http://www.cis.hut.fi/research/lvq_pak/README'}],\n",
       " 'load_function': functools.partial(<function unknown_function at 0x120ff1b70>, 'process_lvq_pak')}"
      ]
     },
     "execution_count": 22,
     "metadata": {},
     "output_type": "execute_result"
    }
   ],
   "source": [
    "datasets.add_dataset_function(dataset_name, process_lvq_pak)"
   ]
  },
  {
   "cell_type": "code",
   "execution_count": 23,
   "metadata": {},
   "outputs": [],
   "source": [
    "lvq = load_dataset(dataset_name)"
   ]
  },
  {
   "cell_type": "code",
   "execution_count": null,
   "metadata": {},
   "outputs": [],
   "source": []
  },
  {
   "cell_type": "code",
   "execution_count": null,
   "metadata": {},
   "outputs": [],
   "source": []
  }
 ],
 "metadata": {
  "kernelspec": {
   "display_name": "Python [default]",
   "language": "python",
   "name": "python3"
  },
  "language_info": {
   "codemirror_mode": {
    "name": "ipython",
    "version": 3
   },
   "file_extension": ".py",
   "mimetype": "text/x-python",
   "name": "python",
   "nbconvert_exporter": "python",
   "pygments_lexer": "ipython3",
   "version": "3.6.5"
  }
 },
 "nbformat": 4,
 "nbformat_minor": 2
}
